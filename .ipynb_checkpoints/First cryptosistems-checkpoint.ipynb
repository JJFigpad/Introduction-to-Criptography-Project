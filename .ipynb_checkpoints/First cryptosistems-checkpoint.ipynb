{
 "cells": [
  {
   "cell_type": "code",
   "execution_count": 29,
   "id": "b5b6358f",
   "metadata": {},
   "outputs": [],
   "source": [
    "from math import gcd"
   ]
  },
  {
   "cell_type": "code",
   "execution_count": 5,
   "id": "8409e741",
   "metadata": {},
   "outputs": [],
   "source": [
    "letters = 'ABCDEFGHIJKLMNOPQRSTUVWXYZ'\n",
    "P = {}\n",
    "P_r = {}\n",
    "for i in range(len(letters)):\n",
    "    P[letters[i]]=i\n",
    "    P_r[i]=letters[i]\n",
    "    "
   ]
  },
  {
   "cell_type": "markdown",
   "id": "ec624720",
   "metadata": {},
   "source": [
    "# Desplazamiento"
   ]
  },
  {
   "cell_type": "code",
   "execution_count": 24,
   "id": "0b57e92f",
   "metadata": {},
   "outputs": [],
   "source": [
    "class Desplazamiento:\n",
    "    def __init__(self,T,k):\n",
    "        self.T = T\n",
    "        self.k = k\n",
    "    \n",
    "    def __preProcess(self):\n",
    "        r = []\n",
    "        for i in self.T:\n",
    "            r.append(P[i])\n",
    "        return r\n",
    "    \n",
    "    def __postProcess(self,T):\n",
    "        r = []\n",
    "        for i in T:\n",
    "            r.append(P_r[i])\n",
    "        return ''.join(r)\n",
    "    \n",
    "    def encryption(self):\n",
    "        cripText = self.__preProcess()\n",
    "        for i in range(len(cripText)):\n",
    "            cripText[i] += self.k\n",
    "            cripText[i] %= 26\n",
    "        return self.__postProcess(cripText)\n",
    "    \n",
    "    def decryption(self):\n",
    "        clearText = self.__preProcess()\n",
    "        for i in range(len(clearText)):\n",
    "            clearText[i] -= self.k\n",
    "            clearText[i] %= 26\n",
    "        return self.__postProcess(clearText)\n",
    "        "
   ]
  },
  {
   "cell_type": "code",
   "execution_count": 28,
   "id": "1a001a3c",
   "metadata": {},
   "outputs": [
    {
     "name": "stdout",
     "output_type": "stream",
     "text": [
      "NZCCPNEQZCXLEEZPYNCJAE CORRECTFORMATTOENCRYPT\n"
     ]
    }
   ],
   "source": [
    "tcl = 'CORRECTFORMATTOENCRYPT'\n",
    "tc = Desplazamiento(tcl, 11)\n",
    "enc = tc.encryption()\n",
    "tc = Desplazamiento(enc, 11)\n",
    "dec = tc.decryption()\n",
    "print(enc, dec)"
   ]
  },
  {
   "cell_type": "markdown",
   "id": "b664389b",
   "metadata": {},
   "source": [
    "# Multiplicativo"
   ]
  },
  {
   "cell_type": "code",
   "execution_count": 91,
   "id": "2ce689a9",
   "metadata": {},
   "outputs": [],
   "source": [
    "class Multiplicativo:\n",
    "    def __init__(self,T,k):\n",
    "        self.T = T\n",
    "        self.k = k\n",
    "    \n",
    "    def __check(self):\n",
    "        if gcd(self.k, 26) == 1:\n",
    "            return True\n",
    "        return False\n",
    "    \n",
    "    def __inv(self):\n",
    "        if self.__check() == True:\n",
    "            for i in range(26):\n",
    "                if (self.k*i)%26==1:\n",
    "                    return i\n",
    "    \n",
    "    def __preProcess(self):\n",
    "        r = []\n",
    "        for i in self.T:\n",
    "            r.append(P[i])\n",
    "        return r\n",
    "    \n",
    "    def __postProcess(self,T):\n",
    "        r = []\n",
    "        for i in T:\n",
    "            r.append(P_r[i])\n",
    "        return ''.join(r)\n",
    "    \n",
    "    def encryption(self):\n",
    "        if self.__check() == False:\n",
    "            return 'Clave invalida'\n",
    "        cripText = self.__preProcess()\n",
    "        for i in range(len(cripText)):\n",
    "            cripText[i] = cripText[i]*self.k\n",
    "            cripText[i] %= 26\n",
    "        return self.__postProcess(cripText)\n",
    "    \n",
    "    def decryption(self):\n",
    "        if self.__check() == False:\n",
    "            return 'Clave invalida'\n",
    "        clearText = self.__preProcess()\n",
    "        for i in range(len(clearText)):\n",
    "            clearText[i] = clearText[i]*self.__inv()\n",
    "            clearText[i] %= 26\n",
    "        return self.__postProcess(clearText)"
   ]
  },
  {
   "cell_type": "code",
   "execution_count": 92,
   "id": "f068ca3f",
   "metadata": {},
   "outputs": [
    {
     "name": "stdout",
     "output_type": "stream",
     "text": [
      "WYFFSWBDYFCABBYSNWFEJB CORRECTFORMATTOENCRYPT\n"
     ]
    }
   ],
   "source": [
    "tcl = 'CORRECTFORMATTOENCRYPT'\n",
    "tc = Multiplicativo(tcl, 11)\n",
    "enc = tc.encryption()\n",
    "tc = Multiplicativo(enc, 11)\n",
    "dec = tc.decryption()\n",
    "print(enc, dec)"
   ]
  },
  {
   "cell_type": "markdown",
   "id": "0931499e",
   "metadata": {},
   "source": [
    "# RSA"
   ]
  },
  {
   "cell_type": "code",
   "execution_count": 93,
   "id": "b79f70c0",
   "metadata": {},
   "outputs": [],
   "source": [
    "def phi(n):\n",
    "    result = 1\n",
    "    for i in range(2, n):\n",
    "        if (gcd(i, n) == 1):\n",
    "            result+=1\n",
    "    return result"
   ]
  },
  {
   "cell_type": "code",
   "execution_count": null,
   "id": "1ddebe98",
   "metadata": {},
   "outputs": [],
   "source": [
    "class RSA:\n",
    "    def __init__(self,T,p = 337, q = 701):\n",
    "        self.T = T\n",
    "        self.k = k\n",
    "        self.__p = p\n",
    "        self.__q = q\n",
    "        self.n == self.__p*self.__q\n",
    "        self.__phin = phi(self.n)\n",
    "    \n",
    "    def __find(self):\n",
    "        if self.__check() == True:\n",
    "            for i in range(26):\n",
    "                if (self.k*i)%26==1:\n",
    "                    return i\n",
    "    \n",
    "    def __preProcess(self):\n",
    "        r = []\n",
    "        for i in self.T:\n",
    "            r.append(P[i])\n",
    "        return r\n",
    "    \n",
    "    def __postProcess(self,T):\n",
    "        r = []\n",
    "        for i in T:\n",
    "            r.append(P_r[i])\n",
    "        return ''.join(r)\n",
    "    \n",
    "    def encryption(self):\n",
    "        if self.__check() == False:\n",
    "            return 'Clave invalida'\n",
    "        cripText = self.__preProcess()\n",
    "        for i in range(len(cripText)):\n",
    "            cripText[i] = cripText[i]*self.k\n",
    "            cripText[i] %= 26\n",
    "        return self.__postProcess(cripText)\n",
    "    \n",
    "    def decryption(self):\n",
    "        if self.__check() == False:\n",
    "            return 'Clave invalida'\n",
    "        clearText = self.__preProcess()\n",
    "        for i in range(len(clearText)):\n",
    "            clearText[i] = clearText[i]*self.__inv()\n",
    "            clearText[i] %= 26\n",
    "        return self.__postProcess(clearText)"
   ]
  }
 ],
 "metadata": {
  "kernelspec": {
   "display_name": "Python 3 (ipykernel)",
   "language": "python",
   "name": "python3"
  },
  "language_info": {
   "codemirror_mode": {
    "name": "ipython",
    "version": 3
   },
   "file_extension": ".py",
   "mimetype": "text/x-python",
   "name": "python",
   "nbconvert_exporter": "python",
   "pygments_lexer": "ipython3",
   "version": "3.10.9"
  }
 },
 "nbformat": 4,
 "nbformat_minor": 5
}
